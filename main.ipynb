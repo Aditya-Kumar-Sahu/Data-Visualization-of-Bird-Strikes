{
 "cells": [
  {
   "cell_type": "markdown",
   "metadata": {},
   "source": [
    "## Importing Modules"
   ]
  },
  {
   "cell_type": "code",
   "execution_count": 1,
   "metadata": {},
   "outputs": [
    {
     "name": "stdout",
     "output_type": "stream",
     "text": [
      "Importing Modules...\n",
      "Modules Successfully Imported!\n"
     ]
    }
   ],
   "source": [
    "print(\"Importing Modules...\")\n",
    "\n",
    "import numpy as np\n",
    "import pandas as pd\n",
    "import matplotlib.pyplot as plt\n",
    "import seaborn as sns\n",
    "\n",
    "print(\"Modules Successfully Imported!\")"
   ]
  },
  {
   "cell_type": "markdown",
   "metadata": {},
   "source": [
    "## Loading Dataset"
   ]
  },
  {
   "cell_type": "code",
   "execution_count": 2,
   "metadata": {},
   "outputs": [
    {
     "name": "stdout",
     "output_type": "stream",
     "text": [
      "Loading dataset...\n",
      "Dataset Sucessfully Loaded!\n"
     ]
    }
   ],
   "source": [
    "print(\"Loading dataset...\")\n",
    "try:\n",
    "    data = pd.read_excel(\"Bird_Strikes_data.xlsx\")\n",
    "except:\n",
    "    print(\"Some error occured\")\n",
    "print(\"Dataset Sucessfully Loaded!\")"
   ]
  },
  {
   "cell_type": "markdown",
   "metadata": {},
   "source": [
    "## Basic Analysis"
   ]
  },
  {
   "cell_type": "markdown",
   "metadata": {},
   "source": [
    "### Shape of Data"
   ]
  },
  {
   "cell_type": "code",
   "execution_count": 3,
   "metadata": {},
   "outputs": [
    {
     "name": "stdout",
     "output_type": "stream",
     "text": [
      "Number of Rows: 25558\n",
      "Number of Columns: 26\n"
     ]
    }
   ],
   "source": [
    "rows, cols = data.shape\n",
    "print(\"Number of Rows:\", rows)\n",
    "print(\"Number of Columns:\", cols)"
   ]
  },
  {
   "cell_type": "markdown",
   "metadata": {},
   "source": [
    "### Basic Information about Dataset"
   ]
  },
  {
   "cell_type": "code",
   "execution_count": 4,
   "metadata": {},
   "outputs": [
    {
     "name": "stdout",
     "output_type": "stream",
     "text": [
      "<class 'pandas.core.frame.DataFrame'>\n",
      "RangeIndex: 25558 entries, 0 to 25557\n",
      "Data columns (total 26 columns):\n",
      " #   Column                                   Non-Null Count  Dtype         \n",
      "---  ------                                   --------------  -----         \n",
      " 0   Record ID                                25558 non-null  int64         \n",
      " 1   Aircraft: Type                           25429 non-null  object        \n",
      " 2   Airport: Name                            25429 non-null  object        \n",
      " 3   Altitude bin                             25429 non-null  object        \n",
      " 4   Aircraft: Make/Model                     25558 non-null  object        \n",
      " 5   Wildlife: Number struck                  25429 non-null  object        \n",
      " 6   Wildlife: Number Struck Actual           25558 non-null  int64         \n",
      " 7   Effect: Impact to flight                 2078 non-null   object        \n",
      " 8   FlightDate                               25429 non-null  datetime64[ns]\n",
      " 9   Effect: Indicated Damage                 25558 non-null  object        \n",
      " 10  Aircraft: Number of engines?             25291 non-null  object        \n",
      " 11  Aircraft: Airline/Operator               25429 non-null  object        \n",
      " 12  Origin State                             25109 non-null  object        \n",
      " 13  When: Phase of flight                    25429 non-null  object        \n",
      " 14  Conditions: Precipitation                2015 non-null   object        \n",
      " 15  Remains of wildlife collected?           25558 non-null  bool          \n",
      " 16  Remains of wildlife sent to Smithsonian  25558 non-null  bool          \n",
      " 17  Remarks                                  20787 non-null  object        \n",
      " 18  Wildlife: Size                           25429 non-null  object        \n",
      " 19  Conditions: Sky                          25558 non-null  object        \n",
      " 20  Wildlife: Species                        25558 non-null  object        \n",
      " 21  Pilot warned of birds or wildlife?       25429 non-null  object        \n",
      " 22  Cost: Total $                            25558 non-null  int64         \n",
      " 23  Feet above ground                        25429 non-null  float64       \n",
      " 24  Number of people injured                 25558 non-null  int64         \n",
      " 25  Is Aircraft Large?                       25429 non-null  object        \n",
      "dtypes: bool(2), datetime64[ns](1), float64(1), int64(4), object(18)\n",
      "memory usage: 4.7+ MB\n"
     ]
    }
   ],
   "source": [
    "data.info()"
   ]
  },
  {
   "cell_type": "markdown",
   "metadata": {},
   "source": [
    "### Sample of Dataset"
   ]
  },
  {
   "cell_type": "code",
   "execution_count": 5,
   "metadata": {},
   "outputs": [
    {
     "data": {
      "text/html": [
       "<div>\n",
       "<style scoped>\n",
       "    .dataframe tbody tr th:only-of-type {\n",
       "        vertical-align: middle;\n",
       "    }\n",
       "\n",
       "    .dataframe tbody tr th {\n",
       "        vertical-align: top;\n",
       "    }\n",
       "\n",
       "    .dataframe thead th {\n",
       "        text-align: right;\n",
       "    }\n",
       "</style>\n",
       "<table border=\"1\" class=\"dataframe\">\n",
       "  <thead>\n",
       "    <tr style=\"text-align: right;\">\n",
       "      <th></th>\n",
       "      <th>Record ID</th>\n",
       "      <th>Aircraft: Type</th>\n",
       "      <th>Airport: Name</th>\n",
       "      <th>Altitude bin</th>\n",
       "      <th>Aircraft: Make/Model</th>\n",
       "      <th>Wildlife: Number struck</th>\n",
       "      <th>Wildlife: Number Struck Actual</th>\n",
       "      <th>Effect: Impact to flight</th>\n",
       "      <th>FlightDate</th>\n",
       "      <th>Effect: Indicated Damage</th>\n",
       "      <th>...</th>\n",
       "      <th>Remains of wildlife sent to Smithsonian</th>\n",
       "      <th>Remarks</th>\n",
       "      <th>Wildlife: Size</th>\n",
       "      <th>Conditions: Sky</th>\n",
       "      <th>Wildlife: Species</th>\n",
       "      <th>Pilot warned of birds or wildlife?</th>\n",
       "      <th>Cost: Total $</th>\n",
       "      <th>Feet above ground</th>\n",
       "      <th>Number of people injured</th>\n",
       "      <th>Is Aircraft Large?</th>\n",
       "    </tr>\n",
       "  </thead>\n",
       "  <tbody>\n",
       "    <tr>\n",
       "      <th>0</th>\n",
       "      <td>202152</td>\n",
       "      <td>Airplane</td>\n",
       "      <td>LAGUARDIA NY</td>\n",
       "      <td>&gt; 1000 ft</td>\n",
       "      <td>B-737-400</td>\n",
       "      <td>Over 100</td>\n",
       "      <td>859</td>\n",
       "      <td>Engine Shut Down</td>\n",
       "      <td>2000-11-23</td>\n",
       "      <td>Caused damage</td>\n",
       "      <td>...</td>\n",
       "      <td>False</td>\n",
       "      <td>FLT 753. PILOT REPTD A HUNDRED BIRDS ON UNKN T...</td>\n",
       "      <td>Medium</td>\n",
       "      <td>No Cloud</td>\n",
       "      <td>Unknown bird - medium</td>\n",
       "      <td>N</td>\n",
       "      <td>30736</td>\n",
       "      <td>1500.0</td>\n",
       "      <td>0</td>\n",
       "      <td>Yes</td>\n",
       "    </tr>\n",
       "    <tr>\n",
       "      <th>1</th>\n",
       "      <td>208159</td>\n",
       "      <td>Airplane</td>\n",
       "      <td>DALLAS/FORT WORTH INTL ARPT</td>\n",
       "      <td>&lt; 1000 ft</td>\n",
       "      <td>MD-80</td>\n",
       "      <td>Over 100</td>\n",
       "      <td>424</td>\n",
       "      <td>NaN</td>\n",
       "      <td>2001-07-25</td>\n",
       "      <td>Caused damage</td>\n",
       "      <td>...</td>\n",
       "      <td>False</td>\n",
       "      <td>102 CARCASSES FOUND. 1 LDG LIGHT ON NOSE GEAR ...</td>\n",
       "      <td>Small</td>\n",
       "      <td>Some Cloud</td>\n",
       "      <td>Rock pigeon</td>\n",
       "      <td>Y</td>\n",
       "      <td>0</td>\n",
       "      <td>0.0</td>\n",
       "      <td>0</td>\n",
       "      <td>No</td>\n",
       "    </tr>\n",
       "    <tr>\n",
       "      <th>2</th>\n",
       "      <td>207601</td>\n",
       "      <td>Airplane</td>\n",
       "      <td>LAKEFRONT AIRPORT</td>\n",
       "      <td>&lt; 1000 ft</td>\n",
       "      <td>C-500</td>\n",
       "      <td>Over 100</td>\n",
       "      <td>261</td>\n",
       "      <td>NaN</td>\n",
       "      <td>2001-09-14</td>\n",
       "      <td>No damage</td>\n",
       "      <td>...</td>\n",
       "      <td>False</td>\n",
       "      <td>FLEW UNDER A VERY LARGE FLOCK OF BIRDS OVER AP...</td>\n",
       "      <td>Small</td>\n",
       "      <td>No Cloud</td>\n",
       "      <td>European starling</td>\n",
       "      <td>N</td>\n",
       "      <td>0</td>\n",
       "      <td>50.0</td>\n",
       "      <td>0</td>\n",
       "      <td>No</td>\n",
       "    </tr>\n",
       "    <tr>\n",
       "      <th>3</th>\n",
       "      <td>215953</td>\n",
       "      <td>Airplane</td>\n",
       "      <td>SEATTLE-TACOMA INTL</td>\n",
       "      <td>&lt; 1000 ft</td>\n",
       "      <td>B-737-400</td>\n",
       "      <td>Over 100</td>\n",
       "      <td>806</td>\n",
       "      <td>Precautionary Landing</td>\n",
       "      <td>2002-09-05</td>\n",
       "      <td>No damage</td>\n",
       "      <td>...</td>\n",
       "      <td>False</td>\n",
       "      <td>NOTAM WARNING. 26 BIRDS HIT THE A/C, FORCING A...</td>\n",
       "      <td>Small</td>\n",
       "      <td>Some Cloud</td>\n",
       "      <td>European starling</td>\n",
       "      <td>Y</td>\n",
       "      <td>0</td>\n",
       "      <td>50.0</td>\n",
       "      <td>0</td>\n",
       "      <td>Yes</td>\n",
       "    </tr>\n",
       "    <tr>\n",
       "      <th>4</th>\n",
       "      <td>219878</td>\n",
       "      <td>Airplane</td>\n",
       "      <td>NORFOLK INTL</td>\n",
       "      <td>&lt; 1000 ft</td>\n",
       "      <td>CL-RJ100/200</td>\n",
       "      <td>Over 100</td>\n",
       "      <td>942</td>\n",
       "      <td>NaN</td>\n",
       "      <td>2003-06-23</td>\n",
       "      <td>No damage</td>\n",
       "      <td>...</td>\n",
       "      <td>False</td>\n",
       "      <td>NO DMG REPTD.</td>\n",
       "      <td>Small</td>\n",
       "      <td>No Cloud</td>\n",
       "      <td>European starling</td>\n",
       "      <td>N</td>\n",
       "      <td>0</td>\n",
       "      <td>50.0</td>\n",
       "      <td>0</td>\n",
       "      <td>No</td>\n",
       "    </tr>\n",
       "  </tbody>\n",
       "</table>\n",
       "<p>5 rows × 26 columns</p>\n",
       "</div>"
      ],
      "text/plain": [
       "   Record ID Aircraft: Type                Airport: Name Altitude bin  \\\n",
       "0     202152       Airplane                 LAGUARDIA NY    > 1000 ft   \n",
       "1     208159       Airplane  DALLAS/FORT WORTH INTL ARPT    < 1000 ft   \n",
       "2     207601       Airplane            LAKEFRONT AIRPORT    < 1000 ft   \n",
       "3     215953       Airplane          SEATTLE-TACOMA INTL    < 1000 ft   \n",
       "4     219878       Airplane                 NORFOLK INTL    < 1000 ft   \n",
       "\n",
       "  Aircraft: Make/Model Wildlife: Number struck  \\\n",
       "0            B-737-400                Over 100   \n",
       "1                MD-80                Over 100   \n",
       "2                C-500                Over 100   \n",
       "3            B-737-400                Over 100   \n",
       "4         CL-RJ100/200                Over 100   \n",
       "\n",
       "   Wildlife: Number Struck Actual Effect: Impact to flight FlightDate  \\\n",
       "0                             859         Engine Shut Down 2000-11-23   \n",
       "1                             424                      NaN 2001-07-25   \n",
       "2                             261                      NaN 2001-09-14   \n",
       "3                             806    Precautionary Landing 2002-09-05   \n",
       "4                             942                      NaN 2003-06-23   \n",
       "\n",
       "  Effect: Indicated Damage  ... Remains of wildlife sent to Smithsonian  \\\n",
       "0            Caused damage  ...                                   False   \n",
       "1            Caused damage  ...                                   False   \n",
       "2                No damage  ...                                   False   \n",
       "3                No damage  ...                                   False   \n",
       "4                No damage  ...                                   False   \n",
       "\n",
       "                                             Remarks Wildlife: Size  \\\n",
       "0  FLT 753. PILOT REPTD A HUNDRED BIRDS ON UNKN T...         Medium   \n",
       "1  102 CARCASSES FOUND. 1 LDG LIGHT ON NOSE GEAR ...          Small   \n",
       "2  FLEW UNDER A VERY LARGE FLOCK OF BIRDS OVER AP...          Small   \n",
       "3  NOTAM WARNING. 26 BIRDS HIT THE A/C, FORCING A...          Small   \n",
       "4                                      NO DMG REPTD.          Small   \n",
       "\n",
       "  Conditions: Sky      Wildlife: Species  Pilot warned of birds or wildlife?  \\\n",
       "0        No Cloud  Unknown bird - medium                                   N   \n",
       "1      Some Cloud            Rock pigeon                                   Y   \n",
       "2        No Cloud      European starling                                   N   \n",
       "3      Some Cloud      European starling                                   Y   \n",
       "4        No Cloud      European starling                                   N   \n",
       "\n",
       "   Cost: Total $ Feet above ground Number of people injured Is Aircraft Large?  \n",
       "0          30736            1500.0                        0                Yes  \n",
       "1              0               0.0                        0                 No  \n",
       "2              0              50.0                        0                 No  \n",
       "3              0              50.0                        0                Yes  \n",
       "4              0              50.0                        0                 No  \n",
       "\n",
       "[5 rows x 26 columns]"
      ]
     },
     "execution_count": 5,
     "metadata": {},
     "output_type": "execute_result"
    }
   ],
   "source": [
    "data.head()"
   ]
  },
  {
   "cell_type": "markdown",
   "metadata": {},
   "source": [
    "### NULL values in each Field"
   ]
  },
  {
   "cell_type": "code",
   "execution_count": 8,
   "metadata": {},
   "outputs": [
    {
     "data": {
      "text/plain": [
       "Record ID                                      0\n",
       "Aircraft: Type                               129\n",
       "Airport: Name                                129\n",
       "Altitude bin                                 129\n",
       "Aircraft: Make/Model                           0\n",
       "Wildlife: Number struck                      129\n",
       "Wildlife: Number Struck Actual                 0\n",
       "Effect: Impact to flight                   23480\n",
       "FlightDate                                   129\n",
       "Effect: Indicated Damage                       0\n",
       "Aircraft: Number of engines?                 267\n",
       "Aircraft: Airline/Operator                   129\n",
       "Origin State                                 449\n",
       "When: Phase of flight                        129\n",
       "Conditions: Precipitation                  23543\n",
       "Remains of wildlife collected?                 0\n",
       "Remains of wildlife sent to Smithsonian        0\n",
       "Remarks                                     4771\n",
       "Wildlife: Size                               129\n",
       "Conditions: Sky                                0\n",
       "Wildlife: Species                              0\n",
       "Pilot warned of birds or wildlife?           129\n",
       "Cost: Total $                                  0\n",
       "Feet above ground                            129\n",
       "Number of people injured                       0\n",
       "Is Aircraft Large?                           129\n",
       "Year                                         129\n",
       "dtype: int64"
      ]
     },
     "execution_count": 8,
     "metadata": {},
     "output_type": "execute_result"
    }
   ],
   "source": [
    "data.isnull().sum()"
   ]
  }
 ],
 "metadata": {
  "kernelspec": {
   "display_name": "Python 3",
   "language": "python",
   "name": "python3"
  },
  "language_info": {
   "codemirror_mode": {
    "name": "ipython",
    "version": 3
   },
   "file_extension": ".py",
   "mimetype": "text/x-python",
   "name": "python",
   "nbconvert_exporter": "python",
   "pygments_lexer": "ipython3",
   "version": "3.10.11"
  }
 },
 "nbformat": 4,
 "nbformat_minor": 2
}
